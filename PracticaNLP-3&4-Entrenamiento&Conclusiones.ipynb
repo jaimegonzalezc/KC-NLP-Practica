{
  "nbformat": 4,
  "nbformat_minor": 0,
  "metadata": {
    "colab": {
      "provenance": [],
      "mount_file_id": "1vaqfjvgHEDJ3q1eogEnU3ruQcdXZo1O-",
      "authorship_tag": "ABX9TyOvgeANitb5DBZpcspodaF1",
      "include_colab_link": true
    },
    "kernelspec": {
      "name": "python3",
      "display_name": "Python 3"
    },
    "language_info": {
      "name": "python"
    }
  },
  "cells": [
    {
      "cell_type": "markdown",
      "metadata": {
        "id": "view-in-github",
        "colab_type": "text"
      },
      "source": [
        "<a href=\"https://colab.research.google.com/github/jaimegonzalezc/KC-NLP-Practica/blob/main/PracticaNLP-3%264-Entrenamiento%26Conclusiones.ipynb\" target=\"_parent\"><img src=\"https://colab.research.google.com/assets/colab-badge.svg\" alt=\"Open In Colab\"/></a>"
      ]
    },
    {
      "cell_type": "markdown",
      "source": [
        "# Práctica Natural Language Processing - KeepCoding\n",
        "\n",
        "## 3. Entrenamiento de modelos\n",
        "Una vez con los datos preprocesados vamos a entrenar dos modelos distintos para comparar los resultados y quedarnos con el mejor modelo.\n",
        "\n",
        "Para ello, en primer lugar tendremos que codificar los datos que hemos procesado para convertirlos en vectores y después dividir los datos de entrada en train y test."
      ],
      "metadata": {
        "id": "9IL8TI1JQ4lI"
      }
    },
    {
      "cell_type": "code",
      "source": [
        "from sklearn.feature_extraction.text import CountVectorizer\n",
        "import pandas as pd\n",
        "import numpy as np\n",
        "from sklearn.model_selection import train_test_split\n",
        "from sklearn.linear_model import LogisticRegression\n",
        "from sklearn.ensemble import RandomForestClassifier\n",
        "from sklearn.metrics import accuracy_score, confusion_matrix, classification_report, roc_curve, precision_recall_curve\n",
        "import matplotlib.pyplot as plt\n",
        "import seaborn as sns\n",
        "from sklearn.metrics import confusion_matrix\n",
        "data = pd.read_csv('/content/drive/MyDrive/Bootcamp IA/NLP/Práctica/reviews_preprocesadas.csv')"
      ],
      "metadata": {
        "id": "phdnLXQBRu4X"
      },
      "execution_count": 3,
      "outputs": []
    },
    {
      "cell_type": "markdown",
      "source": [
        "Para la variable objetivo, se trara de un problema de clasificación binaria, por lo que necesitamos definir las clases para poder entrenar el modelo. Para definir las clases, vamos a elegir la comparación realizada en el primer ejercicio, es decir, diremos que una reseña es buena si tiene un valor superior a 3 y para reseñas con valores 1,2,3 diremos que son reseñas malas."
      ],
      "metadata": {
        "id": "9VYhwZeBTuSC"
      }
    },
    {
      "cell_type": "code",
      "source": [
        "def clasificar_sentimiento(overall):\n",
        "    if overall > 3:\n",
        "        return 'good'\n",
        "    else:\n",
        "        return 'bad'\n",
        "\n",
        "data['sentiment'] = data['overall'].apply(clasificar_sentimiento)\n",
        "\n",
        "# Mostrar las primeras filas del DataFrame con la nueva columna\n",
        "print(data[['overall', 'sentiment']].head(10))\n"
      ],
      "metadata": {
        "colab": {
          "base_uri": "https://localhost:8080/"
        },
        "id": "S9K2EAQLTuDa",
        "outputId": "aaf154b9-2cdd-4192-bcdf-b56bc24a4684"
      },
      "execution_count": 4,
      "outputs": [
        {
          "output_type": "stream",
          "name": "stdout",
          "text": [
            "   overall sentiment\n",
            "0        5      good\n",
            "1        5      good\n",
            "2        5      good\n",
            "3        5      good\n",
            "4        4      good\n",
            "5        5      good\n",
            "6        3       bad\n",
            "7        5      good\n",
            "8        5      good\n",
            "9        5      good\n"
          ]
        }
      ]
    },
    {
      "cell_type": "markdown",
      "source": [
        "Una vez cargados los datos ya preprocesados, vamos a vectorizar:"
      ],
      "metadata": {
        "id": "ZOffD2jASMwV"
      }
    },
    {
      "cell_type": "code",
      "source": [
        "data.info()"
      ],
      "metadata": {
        "colab": {
          "base_uri": "https://localhost:8080/"
        },
        "id": "cTV64upbTcaw",
        "outputId": "7833c4f9-72ff-4e70-faf0-fcd18ae90c98"
      },
      "execution_count": 5,
      "outputs": [
        {
          "output_type": "stream",
          "name": "stdout",
          "text": [
            "<class 'pandas.core.frame.DataFrame'>\n",
            "RangeIndex: 64706 entries, 0 to 64705\n",
            "Data columns (total 11 columns):\n",
            " #   Column                Non-Null Count  Dtype \n",
            "---  ------                --------------  ----- \n",
            " 0   reviewerID            64706 non-null  object\n",
            " 1   asin                  64706 non-null  object\n",
            " 2   reviewerName          64529 non-null  object\n",
            " 3   helpful               64706 non-null  object\n",
            " 4   reviewText            64705 non-null  object\n",
            " 5   overall               64706 non-null  int64 \n",
            " 6   summary               64704 non-null  object\n",
            " 7   unixReviewTime        64706 non-null  int64 \n",
            " 8   reviewTime            64706 non-null  object\n",
            " 9   reviewText_procesado  64703 non-null  object\n",
            " 10  sentiment             64706 non-null  object\n",
            "dtypes: int64(2), object(9)\n",
            "memory usage: 5.4+ MB\n"
          ]
        }
      ]
    },
    {
      "cell_type": "markdown",
      "source": [
        "He hecho una revisión ya que me he dado cuenta de que si había algún valor vacío, por lo que se han eliminado antes de vectorizar."
      ],
      "metadata": {
        "id": "mjy7_MxkU8aC"
      }
    },
    {
      "cell_type": "code",
      "execution_count": 6,
      "metadata": {
        "id": "1f_ntwqXQpjt"
      },
      "outputs": [],
      "source": [
        "vectorizer = CountVectorizer(max_features=5000)\n",
        "data = data.dropna(subset=['reviewText_procesado']) # Eliminamos valores nulos\n",
        "X = vectorizer.fit_transform(data['reviewText_procesado']).toarray()\n",
        "y = data['sentiment']"
      ]
    },
    {
      "cell_type": "markdown",
      "source": [
        "Para vectortizar se ha establecido el límite de características en 5000.\n",
        "\n",
        "Dividimos en subconjuntos de Train y Test:"
      ],
      "metadata": {
        "id": "rqwYWjzsVXHA"
      }
    },
    {
      "cell_type": "code",
      "source": [
        "X_train, X_test, y_train, y_test = train_test_split(X, y, test_size=0.2, random_state=42)"
      ],
      "metadata": {
        "id": "qq4CdzqTUz_r"
      },
      "execution_count": 7,
      "outputs": []
    },
    {
      "cell_type": "markdown",
      "source": [
        "Entrenamos los modelos:"
      ],
      "metadata": {
        "id": "TViQHbEraba9"
      }
    },
    {
      "cell_type": "code",
      "source": [
        "\"\"\"c_params = [0.01, 0.05, 0.25, 0.5, 1, 10, 100]\n",
        "\n",
        "train_acc = list()\n",
        "test_acc = list()\n",
        "for c in c_params:\n",
        "    lr = LogisticRegression(C=c, solver='lbfgs', max_iter=500)\n",
        "    lr.fit(X_train, y_train)\n",
        "\n",
        "    train_predict = lr.predict(X_train)\n",
        "    test_predict = lr.predict(X_test)\n",
        "\n",
        "    print (\"Accuracy for C={}: {}\".format(c, accuracy_score(y_test, test_predict)))\n",
        "\n",
        "    train_acc.append(accuracy_score(y_train, train_predict))\n",
        "    test_acc.append(accuracy_score(y_test, test_predict))\"\"\""
      ],
      "metadata": {
        "colab": {
          "base_uri": "https://localhost:8080/"
        },
        "id": "3T4i1ILnY_Vd",
        "outputId": "a8038f07-a52b-4d4a-e567-38d5e21bd9de"
      },
      "execution_count": null,
      "outputs": [
        {
          "output_type": "stream",
          "name": "stdout",
          "text": [
            "Accuracy for C=0.01: 0.8568889575766943\n",
            "Accuracy for C=0.05: 0.8651572521443475\n"
          ]
        }
      ]
    },
    {
      "cell_type": "markdown",
      "source": [
        "Tras un rato entrenando el modelo de regresión logística comparando los distintos valores de C, se ha descartado esta opción ya que debido al tamaño del dataset se acababa con la memoria de google collab bastante rápido.\n",
        "\n",
        "En cualquier caso, se ha visto que la accuracy con C=0.01 es bastante buena, por lo que parece que el conjunto de datos es bastante bueno de por si, por lo que se van a simplificar los modelos para no acabar con la memoria disponible y obtener buenos resultados igualmente.\n",
        "\n",
        "En cuanto a los modelos elegidos, se ha escogido basándome en la experiencia previa en modelos anteriores del bootcamp y en estudios completos analizados en Kagle.\n",
        "\n",
        "Se ha seleccionado:\n",
        "* Regresión Logística por eficiencia y simplicidad así como el buen rendimiento que tiene en datos linealmente separables, como es el caso.\n",
        "* Random Forest por robustez y buen rendimiento en proyectos anteriores."
      ],
      "metadata": {
        "id": "HbvP3L4Pae8D"
      }
    },
    {
      "cell_type": "code",
      "source": [
        "\n",
        "# Modelo 1: Regresión Logística\n",
        "model1 = LogisticRegression(class_weight='balanced')\n",
        "model1.fit(X_train, y_train)\n",
        "\n",
        "# Modelo 2: Random Forest\n",
        "model2 = RandomForestClassifier(class_weight='balanced')\n",
        "model2.fit(X_train, y_train)"
      ],
      "metadata": {
        "colab": {
          "base_uri": "https://localhost:8080/",
          "height": 219
        },
        "id": "FfxgJsBWU06M",
        "outputId": "f3a1c2a2-3a3d-4610-fac4-764718f438cf"
      },
      "execution_count": 20,
      "outputs": [
        {
          "output_type": "stream",
          "name": "stderr",
          "text": [
            "/usr/local/lib/python3.10/dist-packages/sklearn/linear_model/_logistic.py:469: ConvergenceWarning: lbfgs failed to converge (status=1):\n",
            "STOP: TOTAL NO. of ITERATIONS REACHED LIMIT.\n",
            "\n",
            "Increase the number of iterations (max_iter) or scale the data as shown in:\n",
            "    https://scikit-learn.org/stable/modules/preprocessing.html\n",
            "Please also refer to the documentation for alternative solver options:\n",
            "    https://scikit-learn.org/stable/modules/linear_model.html#logistic-regression\n",
            "  n_iter_i = _check_optimize_result(\n"
          ]
        },
        {
          "output_type": "execute_result",
          "data": {
            "text/plain": [
              "RandomForestClassifier(class_weight='balanced')"
            ],
            "text/html": [
              "<style>#sk-container-id-2 {\n",
              "  /* Definition of color scheme common for light and dark mode */\n",
              "  --sklearn-color-text: black;\n",
              "  --sklearn-color-line: gray;\n",
              "  /* Definition of color scheme for unfitted estimators */\n",
              "  --sklearn-color-unfitted-level-0: #fff5e6;\n",
              "  --sklearn-color-unfitted-level-1: #f6e4d2;\n",
              "  --sklearn-color-unfitted-level-2: #ffe0b3;\n",
              "  --sklearn-color-unfitted-level-3: chocolate;\n",
              "  /* Definition of color scheme for fitted estimators */\n",
              "  --sklearn-color-fitted-level-0: #f0f8ff;\n",
              "  --sklearn-color-fitted-level-1: #d4ebff;\n",
              "  --sklearn-color-fitted-level-2: #b3dbfd;\n",
              "  --sklearn-color-fitted-level-3: cornflowerblue;\n",
              "\n",
              "  /* Specific color for light theme */\n",
              "  --sklearn-color-text-on-default-background: var(--sg-text-color, var(--theme-code-foreground, var(--jp-content-font-color1, black)));\n",
              "  --sklearn-color-background: var(--sg-background-color, var(--theme-background, var(--jp-layout-color0, white)));\n",
              "  --sklearn-color-border-box: var(--sg-text-color, var(--theme-code-foreground, var(--jp-content-font-color1, black)));\n",
              "  --sklearn-color-icon: #696969;\n",
              "\n",
              "  @media (prefers-color-scheme: dark) {\n",
              "    /* Redefinition of color scheme for dark theme */\n",
              "    --sklearn-color-text-on-default-background: var(--sg-text-color, var(--theme-code-foreground, var(--jp-content-font-color1, white)));\n",
              "    --sklearn-color-background: var(--sg-background-color, var(--theme-background, var(--jp-layout-color0, #111)));\n",
              "    --sklearn-color-border-box: var(--sg-text-color, var(--theme-code-foreground, var(--jp-content-font-color1, white)));\n",
              "    --sklearn-color-icon: #878787;\n",
              "  }\n",
              "}\n",
              "\n",
              "#sk-container-id-2 {\n",
              "  color: var(--sklearn-color-text);\n",
              "}\n",
              "\n",
              "#sk-container-id-2 pre {\n",
              "  padding: 0;\n",
              "}\n",
              "\n",
              "#sk-container-id-2 input.sk-hidden--visually {\n",
              "  border: 0;\n",
              "  clip: rect(1px 1px 1px 1px);\n",
              "  clip: rect(1px, 1px, 1px, 1px);\n",
              "  height: 1px;\n",
              "  margin: -1px;\n",
              "  overflow: hidden;\n",
              "  padding: 0;\n",
              "  position: absolute;\n",
              "  width: 1px;\n",
              "}\n",
              "\n",
              "#sk-container-id-2 div.sk-dashed-wrapped {\n",
              "  border: 1px dashed var(--sklearn-color-line);\n",
              "  margin: 0 0.4em 0.5em 0.4em;\n",
              "  box-sizing: border-box;\n",
              "  padding-bottom: 0.4em;\n",
              "  background-color: var(--sklearn-color-background);\n",
              "}\n",
              "\n",
              "#sk-container-id-2 div.sk-container {\n",
              "  /* jupyter's `normalize.less` sets `[hidden] { display: none; }`\n",
              "     but bootstrap.min.css set `[hidden] { display: none !important; }`\n",
              "     so we also need the `!important` here to be able to override the\n",
              "     default hidden behavior on the sphinx rendered scikit-learn.org.\n",
              "     See: https://github.com/scikit-learn/scikit-learn/issues/21755 */\n",
              "  display: inline-block !important;\n",
              "  position: relative;\n",
              "}\n",
              "\n",
              "#sk-container-id-2 div.sk-text-repr-fallback {\n",
              "  display: none;\n",
              "}\n",
              "\n",
              "div.sk-parallel-item,\n",
              "div.sk-serial,\n",
              "div.sk-item {\n",
              "  /* draw centered vertical line to link estimators */\n",
              "  background-image: linear-gradient(var(--sklearn-color-text-on-default-background), var(--sklearn-color-text-on-default-background));\n",
              "  background-size: 2px 100%;\n",
              "  background-repeat: no-repeat;\n",
              "  background-position: center center;\n",
              "}\n",
              "\n",
              "/* Parallel-specific style estimator block */\n",
              "\n",
              "#sk-container-id-2 div.sk-parallel-item::after {\n",
              "  content: \"\";\n",
              "  width: 100%;\n",
              "  border-bottom: 2px solid var(--sklearn-color-text-on-default-background);\n",
              "  flex-grow: 1;\n",
              "}\n",
              "\n",
              "#sk-container-id-2 div.sk-parallel {\n",
              "  display: flex;\n",
              "  align-items: stretch;\n",
              "  justify-content: center;\n",
              "  background-color: var(--sklearn-color-background);\n",
              "  position: relative;\n",
              "}\n",
              "\n",
              "#sk-container-id-2 div.sk-parallel-item {\n",
              "  display: flex;\n",
              "  flex-direction: column;\n",
              "}\n",
              "\n",
              "#sk-container-id-2 div.sk-parallel-item:first-child::after {\n",
              "  align-self: flex-end;\n",
              "  width: 50%;\n",
              "}\n",
              "\n",
              "#sk-container-id-2 div.sk-parallel-item:last-child::after {\n",
              "  align-self: flex-start;\n",
              "  width: 50%;\n",
              "}\n",
              "\n",
              "#sk-container-id-2 div.sk-parallel-item:only-child::after {\n",
              "  width: 0;\n",
              "}\n",
              "\n",
              "/* Serial-specific style estimator block */\n",
              "\n",
              "#sk-container-id-2 div.sk-serial {\n",
              "  display: flex;\n",
              "  flex-direction: column;\n",
              "  align-items: center;\n",
              "  background-color: var(--sklearn-color-background);\n",
              "  padding-right: 1em;\n",
              "  padding-left: 1em;\n",
              "}\n",
              "\n",
              "\n",
              "/* Toggleable style: style used for estimator/Pipeline/ColumnTransformer box that is\n",
              "clickable and can be expanded/collapsed.\n",
              "- Pipeline and ColumnTransformer use this feature and define the default style\n",
              "- Estimators will overwrite some part of the style using the `sk-estimator` class\n",
              "*/\n",
              "\n",
              "/* Pipeline and ColumnTransformer style (default) */\n",
              "\n",
              "#sk-container-id-2 div.sk-toggleable {\n",
              "  /* Default theme specific background. It is overwritten whether we have a\n",
              "  specific estimator or a Pipeline/ColumnTransformer */\n",
              "  background-color: var(--sklearn-color-background);\n",
              "}\n",
              "\n",
              "/* Toggleable label */\n",
              "#sk-container-id-2 label.sk-toggleable__label {\n",
              "  cursor: pointer;\n",
              "  display: block;\n",
              "  width: 100%;\n",
              "  margin-bottom: 0;\n",
              "  padding: 0.5em;\n",
              "  box-sizing: border-box;\n",
              "  text-align: center;\n",
              "}\n",
              "\n",
              "#sk-container-id-2 label.sk-toggleable__label-arrow:before {\n",
              "  /* Arrow on the left of the label */\n",
              "  content: \"▸\";\n",
              "  float: left;\n",
              "  margin-right: 0.25em;\n",
              "  color: var(--sklearn-color-icon);\n",
              "}\n",
              "\n",
              "#sk-container-id-2 label.sk-toggleable__label-arrow:hover:before {\n",
              "  color: var(--sklearn-color-text);\n",
              "}\n",
              "\n",
              "/* Toggleable content - dropdown */\n",
              "\n",
              "#sk-container-id-2 div.sk-toggleable__content {\n",
              "  max-height: 0;\n",
              "  max-width: 0;\n",
              "  overflow: hidden;\n",
              "  text-align: left;\n",
              "  /* unfitted */\n",
              "  background-color: var(--sklearn-color-unfitted-level-0);\n",
              "}\n",
              "\n",
              "#sk-container-id-2 div.sk-toggleable__content.fitted {\n",
              "  /* fitted */\n",
              "  background-color: var(--sklearn-color-fitted-level-0);\n",
              "}\n",
              "\n",
              "#sk-container-id-2 div.sk-toggleable__content pre {\n",
              "  margin: 0.2em;\n",
              "  border-radius: 0.25em;\n",
              "  color: var(--sklearn-color-text);\n",
              "  /* unfitted */\n",
              "  background-color: var(--sklearn-color-unfitted-level-0);\n",
              "}\n",
              "\n",
              "#sk-container-id-2 div.sk-toggleable__content.fitted pre {\n",
              "  /* unfitted */\n",
              "  background-color: var(--sklearn-color-fitted-level-0);\n",
              "}\n",
              "\n",
              "#sk-container-id-2 input.sk-toggleable__control:checked~div.sk-toggleable__content {\n",
              "  /* Expand drop-down */\n",
              "  max-height: 200px;\n",
              "  max-width: 100%;\n",
              "  overflow: auto;\n",
              "}\n",
              "\n",
              "#sk-container-id-2 input.sk-toggleable__control:checked~label.sk-toggleable__label-arrow:before {\n",
              "  content: \"▾\";\n",
              "}\n",
              "\n",
              "/* Pipeline/ColumnTransformer-specific style */\n",
              "\n",
              "#sk-container-id-2 div.sk-label input.sk-toggleable__control:checked~label.sk-toggleable__label {\n",
              "  color: var(--sklearn-color-text);\n",
              "  background-color: var(--sklearn-color-unfitted-level-2);\n",
              "}\n",
              "\n",
              "#sk-container-id-2 div.sk-label.fitted input.sk-toggleable__control:checked~label.sk-toggleable__label {\n",
              "  background-color: var(--sklearn-color-fitted-level-2);\n",
              "}\n",
              "\n",
              "/* Estimator-specific style */\n",
              "\n",
              "/* Colorize estimator box */\n",
              "#sk-container-id-2 div.sk-estimator input.sk-toggleable__control:checked~label.sk-toggleable__label {\n",
              "  /* unfitted */\n",
              "  background-color: var(--sklearn-color-unfitted-level-2);\n",
              "}\n",
              "\n",
              "#sk-container-id-2 div.sk-estimator.fitted input.sk-toggleable__control:checked~label.sk-toggleable__label {\n",
              "  /* fitted */\n",
              "  background-color: var(--sklearn-color-fitted-level-2);\n",
              "}\n",
              "\n",
              "#sk-container-id-2 div.sk-label label.sk-toggleable__label,\n",
              "#sk-container-id-2 div.sk-label label {\n",
              "  /* The background is the default theme color */\n",
              "  color: var(--sklearn-color-text-on-default-background);\n",
              "}\n",
              "\n",
              "/* On hover, darken the color of the background */\n",
              "#sk-container-id-2 div.sk-label:hover label.sk-toggleable__label {\n",
              "  color: var(--sklearn-color-text);\n",
              "  background-color: var(--sklearn-color-unfitted-level-2);\n",
              "}\n",
              "\n",
              "/* Label box, darken color on hover, fitted */\n",
              "#sk-container-id-2 div.sk-label.fitted:hover label.sk-toggleable__label.fitted {\n",
              "  color: var(--sklearn-color-text);\n",
              "  background-color: var(--sklearn-color-fitted-level-2);\n",
              "}\n",
              "\n",
              "/* Estimator label */\n",
              "\n",
              "#sk-container-id-2 div.sk-label label {\n",
              "  font-family: monospace;\n",
              "  font-weight: bold;\n",
              "  display: inline-block;\n",
              "  line-height: 1.2em;\n",
              "}\n",
              "\n",
              "#sk-container-id-2 div.sk-label-container {\n",
              "  text-align: center;\n",
              "}\n",
              "\n",
              "/* Estimator-specific */\n",
              "#sk-container-id-2 div.sk-estimator {\n",
              "  font-family: monospace;\n",
              "  border: 1px dotted var(--sklearn-color-border-box);\n",
              "  border-radius: 0.25em;\n",
              "  box-sizing: border-box;\n",
              "  margin-bottom: 0.5em;\n",
              "  /* unfitted */\n",
              "  background-color: var(--sklearn-color-unfitted-level-0);\n",
              "}\n",
              "\n",
              "#sk-container-id-2 div.sk-estimator.fitted {\n",
              "  /* fitted */\n",
              "  background-color: var(--sklearn-color-fitted-level-0);\n",
              "}\n",
              "\n",
              "/* on hover */\n",
              "#sk-container-id-2 div.sk-estimator:hover {\n",
              "  /* unfitted */\n",
              "  background-color: var(--sklearn-color-unfitted-level-2);\n",
              "}\n",
              "\n",
              "#sk-container-id-2 div.sk-estimator.fitted:hover {\n",
              "  /* fitted */\n",
              "  background-color: var(--sklearn-color-fitted-level-2);\n",
              "}\n",
              "\n",
              "/* Specification for estimator info (e.g. \"i\" and \"?\") */\n",
              "\n",
              "/* Common style for \"i\" and \"?\" */\n",
              "\n",
              ".sk-estimator-doc-link,\n",
              "a:link.sk-estimator-doc-link,\n",
              "a:visited.sk-estimator-doc-link {\n",
              "  float: right;\n",
              "  font-size: smaller;\n",
              "  line-height: 1em;\n",
              "  font-family: monospace;\n",
              "  background-color: var(--sklearn-color-background);\n",
              "  border-radius: 1em;\n",
              "  height: 1em;\n",
              "  width: 1em;\n",
              "  text-decoration: none !important;\n",
              "  margin-left: 1ex;\n",
              "  /* unfitted */\n",
              "  border: var(--sklearn-color-unfitted-level-1) 1pt solid;\n",
              "  color: var(--sklearn-color-unfitted-level-1);\n",
              "}\n",
              "\n",
              ".sk-estimator-doc-link.fitted,\n",
              "a:link.sk-estimator-doc-link.fitted,\n",
              "a:visited.sk-estimator-doc-link.fitted {\n",
              "  /* fitted */\n",
              "  border: var(--sklearn-color-fitted-level-1) 1pt solid;\n",
              "  color: var(--sklearn-color-fitted-level-1);\n",
              "}\n",
              "\n",
              "/* On hover */\n",
              "div.sk-estimator:hover .sk-estimator-doc-link:hover,\n",
              ".sk-estimator-doc-link:hover,\n",
              "div.sk-label-container:hover .sk-estimator-doc-link:hover,\n",
              ".sk-estimator-doc-link:hover {\n",
              "  /* unfitted */\n",
              "  background-color: var(--sklearn-color-unfitted-level-3);\n",
              "  color: var(--sklearn-color-background);\n",
              "  text-decoration: none;\n",
              "}\n",
              "\n",
              "div.sk-estimator.fitted:hover .sk-estimator-doc-link.fitted:hover,\n",
              ".sk-estimator-doc-link.fitted:hover,\n",
              "div.sk-label-container:hover .sk-estimator-doc-link.fitted:hover,\n",
              ".sk-estimator-doc-link.fitted:hover {\n",
              "  /* fitted */\n",
              "  background-color: var(--sklearn-color-fitted-level-3);\n",
              "  color: var(--sklearn-color-background);\n",
              "  text-decoration: none;\n",
              "}\n",
              "\n",
              "/* Span, style for the box shown on hovering the info icon */\n",
              ".sk-estimator-doc-link span {\n",
              "  display: none;\n",
              "  z-index: 9999;\n",
              "  position: relative;\n",
              "  font-weight: normal;\n",
              "  right: .2ex;\n",
              "  padding: .5ex;\n",
              "  margin: .5ex;\n",
              "  width: min-content;\n",
              "  min-width: 20ex;\n",
              "  max-width: 50ex;\n",
              "  color: var(--sklearn-color-text);\n",
              "  box-shadow: 2pt 2pt 4pt #999;\n",
              "  /* unfitted */\n",
              "  background: var(--sklearn-color-unfitted-level-0);\n",
              "  border: .5pt solid var(--sklearn-color-unfitted-level-3);\n",
              "}\n",
              "\n",
              ".sk-estimator-doc-link.fitted span {\n",
              "  /* fitted */\n",
              "  background: var(--sklearn-color-fitted-level-0);\n",
              "  border: var(--sklearn-color-fitted-level-3);\n",
              "}\n",
              "\n",
              ".sk-estimator-doc-link:hover span {\n",
              "  display: block;\n",
              "}\n",
              "\n",
              "/* \"?\"-specific style due to the `<a>` HTML tag */\n",
              "\n",
              "#sk-container-id-2 a.estimator_doc_link {\n",
              "  float: right;\n",
              "  font-size: 1rem;\n",
              "  line-height: 1em;\n",
              "  font-family: monospace;\n",
              "  background-color: var(--sklearn-color-background);\n",
              "  border-radius: 1rem;\n",
              "  height: 1rem;\n",
              "  width: 1rem;\n",
              "  text-decoration: none;\n",
              "  /* unfitted */\n",
              "  color: var(--sklearn-color-unfitted-level-1);\n",
              "  border: var(--sklearn-color-unfitted-level-1) 1pt solid;\n",
              "}\n",
              "\n",
              "#sk-container-id-2 a.estimator_doc_link.fitted {\n",
              "  /* fitted */\n",
              "  border: var(--sklearn-color-fitted-level-1) 1pt solid;\n",
              "  color: var(--sklearn-color-fitted-level-1);\n",
              "}\n",
              "\n",
              "/* On hover */\n",
              "#sk-container-id-2 a.estimator_doc_link:hover {\n",
              "  /* unfitted */\n",
              "  background-color: var(--sklearn-color-unfitted-level-3);\n",
              "  color: var(--sklearn-color-background);\n",
              "  text-decoration: none;\n",
              "}\n",
              "\n",
              "#sk-container-id-2 a.estimator_doc_link.fitted:hover {\n",
              "  /* fitted */\n",
              "  background-color: var(--sklearn-color-fitted-level-3);\n",
              "}\n",
              "</style><div id=\"sk-container-id-2\" class=\"sk-top-container\"><div class=\"sk-text-repr-fallback\"><pre>RandomForestClassifier(class_weight=&#x27;balanced&#x27;)</pre><b>In a Jupyter environment, please rerun this cell to show the HTML representation or trust the notebook. <br />On GitHub, the HTML representation is unable to render, please try loading this page with nbviewer.org.</b></div><div class=\"sk-container\" hidden><div class=\"sk-item\"><div class=\"sk-estimator fitted sk-toggleable\"><input class=\"sk-toggleable__control sk-hidden--visually\" id=\"sk-estimator-id-2\" type=\"checkbox\" checked><label for=\"sk-estimator-id-2\" class=\"sk-toggleable__label fitted sk-toggleable__label-arrow fitted\">&nbsp;&nbsp;RandomForestClassifier<a class=\"sk-estimator-doc-link fitted\" rel=\"noreferrer\" target=\"_blank\" href=\"https://scikit-learn.org/1.5/modules/generated/sklearn.ensemble.RandomForestClassifier.html\">?<span>Documentation for RandomForestClassifier</span></a><span class=\"sk-estimator-doc-link fitted\">i<span>Fitted</span></span></label><div class=\"sk-toggleable__content fitted\"><pre>RandomForestClassifier(class_weight=&#x27;balanced&#x27;)</pre></div> </div></div></div></div>"
            ]
          },
          "metadata": {},
          "execution_count": 20
        }
      ]
    },
    {
      "cell_type": "markdown",
      "source": [
        "## 4. Reporte de métricas y conclusiones\n",
        "Finalmente se considera que generar un nuevo notebook para las métricas y conclusiones puede ser un poco redundante puesto que habría que entrenar de nuevo los modelos en el nuevo notebook y el código estaría duplicado.\n",
        "\n",
        "Por ello, las métricas y conclusiones se van a incluir en este mismo notebook."
      ],
      "metadata": {
        "id": "u8PCB8OjfLcE"
      }
    },
    {
      "cell_type": "code",
      "source": [
        "from sklearn.metrics import classification_report\n",
        "\n",
        "# Evaluación del Modelo 1ç\n",
        "y_pred1 = model1.predict(X_test)\n",
        "print(\"Evaluación del Modelo 1: Regresión Logística\")\n",
        "print(classification_report(y_test, y_pred1))\n",
        "\n",
        "# Evaluación del Modelo 2\n",
        "y_pred2 = model2.predict(X_test)\n",
        "print(\"Evaluación del Modelo 2: Bosques Aleatorios\")\n",
        "print(classification_report(y_test, y_pred2))\n"
      ],
      "metadata": {
        "colab": {
          "base_uri": "https://localhost:8080/"
        },
        "id": "156y8K0RU20X",
        "outputId": "9c0d7bfb-2311-497c-e7b6-1f18e7f0151a"
      },
      "execution_count": 21,
      "outputs": [
        {
          "output_type": "stream",
          "name": "stdout",
          "text": [
            "Evaluación del Modelo 1: Regresión Logística\n",
            "              precision    recall  f1-score   support\n",
            "\n",
            "         bad       0.49      0.74      0.59      2479\n",
            "        good       0.93      0.82      0.87     10462\n",
            "\n",
            "    accuracy                           0.80     12941\n",
            "   macro avg       0.71      0.78      0.73     12941\n",
            "weighted avg       0.85      0.80      0.82     12941\n",
            "\n",
            "Evaluación del Modelo 2: Bosques Aleatorios\n",
            "              precision    recall  f1-score   support\n",
            "\n",
            "         bad       0.82      0.22      0.35      2479\n",
            "        good       0.84      0.99      0.91     10462\n",
            "\n",
            "    accuracy                           0.84     12941\n",
            "   macro avg       0.83      0.60      0.63     12941\n",
            "weighted avg       0.84      0.84      0.80     12941\n",
            "\n"
          ]
        }
      ]
    },
    {
      "cell_type": "markdown",
      "source": [
        "Viendo a primera vista estas métricas, podemos decir que el modelo que mejor rendimiento tiene en este problema es la regresión logística aunque tiene una precisión más baja para la clase \"bad\", su recall y F1-score son significativamente mejores, lo que lo hace más equilibrado y efectivo para este problema.\n",
        "\n",
        "Para sacar conclusiones más dtalladas, se va a graficar estas métricas para comparar de forma directa. Para ellos se han generado dos nuevas funciones para generar:\n",
        " * Un gráfico de barras para las métricas\n",
        " * Una matriz de confusión"
      ],
      "metadata": {
        "id": "xCjgLvUkgWNf"
      }
    },
    {
      "cell_type": "code",
      "source": [
        "def graficar_metricas(model_name, y_test, y_pred):\n",
        "    report = classification_report(y_test, y_pred, output_dict=True)\n",
        "    metrics_df = pd.DataFrame(report).transpose()\n",
        "    metrics_df = metrics_df[['precision', 'recall', 'f1-score']].iloc[:-3]\n",
        "\n",
        "    metrics_df.plot(kind='bar', figsize=(10, 6))\n",
        "    plt.title(f'Métricas de Evaluación para {model_name}')\n",
        "    plt.xlabel('Clases')\n",
        "    plt.ylabel('Valor')\n",
        "    plt.ylim(0, 1)\n",
        "    plt.xticks(rotation=0)\n",
        "    plt.legend(loc='lower right')\n",
        "    plt.show()\n",
        "\n",
        "def graficar_matriz_confusion(model_name, y_test, y_pred):\n",
        "    cm = confusion_matrix(y_test, y_pred, labels=['good', 'bad'])\n",
        "    sns.heatmap(cm, annot=True, fmt='d', cmap='Blues', xticklabels=['good', 'bad'], yticklabels=['good', 'bad'])\n",
        "    plt.title(f'Matriz de Confusión para {model_name}')\n",
        "    plt.xlabel('Predicción')\n",
        "    plt.ylabel('Real')\n",
        "    plt.show()\n",
        "\n",
        "# Evaluación del Modelo 1: Regresión Logística\n",
        "graficar_metricas('Regresión Logística', y_test, y_pred1)\n",
        "graficar_matriz_confusion('Regresión Logística', y_test, y_pred1)"
      ],
      "metadata": {
        "colab": {
          "base_uri": "https://localhost:8080/",
          "height": 1000
        },
        "id": "tds8Oz2ueQ14",
        "outputId": "3545f30f-e710-4109-83d1-357d52f4f797"
      },
      "execution_count": 22,
      "outputs": [
        {
          "output_type": "display_data",
          "data": {
            "text/plain": [
              "<Figure size 1000x600 with 1 Axes>"
            ],
            "image/png": "[encoded data removed]"
          },
          "metadata": {}
        },
        {
          "output_type": "display_data",
          "data": {
            "text/plain": [
              "<Figure size 640x480 with 2 Axes>"
            ],
            "image/png": "[encoded data removed]"
          },
          "metadata": {}
        }
      ]
    },
    {
      "cell_type": "markdown",
      "source": [
        "Vemos que el F1-score para ambas clases es razonablemente alto, lo que sugiere un buen equilibrio entre precisión y recall.\n",
        "\n",
        "La matriz de confusión muestra que el modelo tiene un mayor número de predicciones correctas para la clase \"good\" en comparación con la clase \"bad\". Sin embargo, hay una cantidad considerable de falsos negativos para la clase \"good\" y falsos positivos para la clase \"bad\", lo que sugiere que hay margen de mejora en la identificación de la clase \"bad\".\n",
        "\n",
        "El modelo de regresión logística muestra un buen rendimiento general, especialmente en la identificación de reseñas positivas. Aunque, como hemos comentado, hay margen de mejora en la identificación de reseñas negativas, el modelo es equilibrado y efectivo para este problema de clasificación binaria supervisada. Basado en las métricas y la matriz de confusión, el modelo de regresión logística es una opción sólida para el análisis de sentimiento en este conjunto de datos.\n",
        "\n",
        "Para mejorar el rendimiento de la clase \"bad\" podría realizarse ingeniería de características como es el ejemplo de TF-IDF para modificar el vectorizer y dar más peso a las palabras más importantes pero menos frecuentes, pero se ha descartado por la limitación de memoria de Google Collab tras algunas pruebas."
      ],
      "metadata": {
        "id": "nYbIKfTQhooc"
      }
    },
    {
      "cell_type": "code",
      "source": [
        "# Evaluación del Modelo 2: Random Forest\n",
        "graficar_metricas('Bosques Aleatorios', y_test, y_pred2)\n",
        "graficar_matriz_confusion('Bosques Aleatorios', y_test, y_pred2)"
      ],
      "metadata": {
        "colab": {
          "base_uri": "https://localhost:8080/",
          "height": 1000
        },
        "id": "J7U1qUZ3hkVQ",
        "outputId": "6ed7fde8-403b-4980-ac8d-720ab2fe6d1b"
      },
      "execution_count": 23,
      "outputs": [
        {
          "output_type": "display_data",
          "data": {
            "text/plain": [
              "<Figure size 1000x600 with 1 Axes>"
            ],
            "image/png": "[encoded data removed]"
          },
          "metadata": {}
        },
        {
          "output_type": "display_data",
          "data": {
            "text/plain": [
              "<Figure size 640x480 with 2 Axes>"
            ],
            "image/png": "[encoded data removed]"
          },
          "metadata": {}
        }
      ]
    },
    {
      "cell_type": "markdown",
      "source": [
        "El modelo Random Forest muestra un buen rendimiento general, especialmente en la identificación de reseñas positivas. Sin embargo, tiene dificultades significativas para identificar correctamente las reseñas negativas, lo que se refleja en el bajo recall y F1-score para la clase \"bad\". Basado en las métricas y la matriz de confusión, el modelo de Bosques Aleatorios es menos equilibrado en comparación con el modelo de Regresión Logística.\n",
        "\n",
        "Algo que me sorprende de este modelo es que tenga tan buena precisión y tan bajo recall y F1-score. Investigando, he llegado a la conclusión de que esto sugiere que el modelo es muy conservadore al predecir la clase bad, es decir, solo predice cuando está muy seguro, por lo que predice pocas veces la palabra bad y por eso el recall es tan malo, pero cuando predice bad en la mayoría de casos acierta.\n",
        "\n",
        "En resumen, considero que el mejor modelo sigue siendo la regresión logística aunque me parece curioso que ambos modelos se comporten mal clasificando como mala una reseña.\n",
        "\n",
        "En mi opinión, creo que esto se debe a las conclusiones vistas en el EDA, ya que la mayoría de reseñas son buenas y es raro que cuando compres un música, no te guste el artista que estás escuchando, ya que lo más probable es que seas su fan. Por ello, considero que los datos tienen un gran sesgo provocado por el tipo de producto que e está viendo y hace que inevitablemnte el modelo sea muy conservador con la clase bad, ya que realmente hay pocos datos de esta clase comparados con los que hay para reseñas de 4 y 5 estrellas."
      ],
      "metadata": {
        "id": "KZzWwqGpjKTr"
      }
    }
  ]
}